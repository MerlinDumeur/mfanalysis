{
 "cells": [
  {
   "cell_type": "markdown",
   "metadata": {},
   "source": [
    "# Fetching Key MF values"
   ]
  },
  {
   "cell_type": "code",
   "execution_count": 1,
   "metadata": {},
   "outputs": [],
   "source": [
    "import matplotlib.pyplot as plt"
   ]
  },
  {
   "cell_type": "markdown",
   "metadata": {},
   "source": [
    "### Generating toy data"
   ]
  },
  {
   "cell_type": "code",
   "execution_count": 2,
   "metadata": {},
   "outputs": [],
   "source": [
    "from pymultifracs.generate_data import generate_fbm_path"
   ]
  },
  {
   "cell_type": "code",
   "execution_count": 3,
   "metadata": {},
   "outputs": [],
   "source": [
    "X = generate_fbm_path(4096, 0.8)[:, 0]"
   ]
  },
  {
   "cell_type": "code",
   "execution_count": 4,
   "metadata": {},
   "outputs": [
    {
     "data": {
      "image/png": "[encoded data removed]",
      "text/plain": [
       "<Figure size 432x288 with 1 Axes>"
      ]
     },
     "metadata": {
      "needs_background": "light"
     },
     "output_type": "display_data"
    }
   ],
   "source": [
    "plt.plot(X)\n",
    "plt.show()"
   ]
  },
  {
   "cell_type": "markdown",
   "metadata": {},
   "source": [
    "#### Multifractal analysis"
   ]
  },
  {
   "cell_type": "code",
   "execution_count": 5,
   "metadata": {},
   "outputs": [],
   "source": [
    "import pymultifracs.mf_analysis as mf"
   ]
  },
  {
   "cell_type": "code",
   "execution_count": 6,
   "metadata": {},
   "outputs": [],
   "source": [
    "import numpy as np"
   ]
  },
  {
   "cell_type": "code",
   "execution_count": 7,
   "metadata": {},
   "outputs": [],
   "source": [
    "sf, cumul, mfs = mf.mf_analysis_full(X,\n",
    "    j1=2, j2=8,\n",
    "    q=np.arange(-2,3),\n",
    "    n_cumul=2,\n",
    "    p_exp=2\n",
    ")"
   ]
  },
  {
   "cell_type": "markdown",
   "metadata": {},
   "source": [
    "#### Getting variables"
   ]
  },
  {
   "cell_type": "markdown",
   "metadata": {},
   "source": [
    "$\\zeta(q)$"
   ]
  },
  {
   "cell_type": "code",
   "execution_count": 8,
   "metadata": {},
   "outputs": [],
   "source": [
    "zeta = sf.zeta"
   ]
  },
  {
   "cell_type": "code",
   "execution_count": 9,
   "metadata": {},
   "outputs": [
    {
     "data": {
      "text/plain": [
       "array([-1.58356079, -0.78791116,  0.        ,  0.78414908,  1.56700336])"
      ]
     },
     "execution_count": 9,
     "metadata": {},
     "output_type": "execute_result"
    }
   ],
   "source": [
    "zeta"
   ]
  },
  {
   "cell_type": "code",
   "execution_count": 10,
   "metadata": {},
   "outputs": [
    {
     "data": {
      "text/plain": [
       "array([1.56700336])"
      ]
     },
     "execution_count": 10,
     "metadata": {},
     "output_type": "execute_result"
    }
   ],
   "source": [
    "q = 2\n",
    "\n",
    "zeta[sf.q == q]"
   ]
  },
  {
   "cell_type": "markdown",
   "metadata": {},
   "source": [
    "$c_p$"
   ]
  },
  {
   "cell_type": "code",
   "execution_count": 11,
   "metadata": {},
   "outputs": [],
   "source": [
    "c_p = cumul.log_cumulants"
   ]
  },
  {
   "cell_type": "code",
   "execution_count": 12,
   "metadata": {},
   "outputs": [
    {
     "data": {
      "text/plain": [
       "array([ 0.78545286, -0.00364008])"
      ]
     },
     "execution_count": 12,
     "metadata": {},
     "output_type": "execute_result"
    }
   ],
   "source": [
    "c_p"
   ]
  },
  {
   "cell_type": "code",
   "execution_count": 13,
   "metadata": {},
   "outputs": [
    {
     "data": {
      "text/plain": [
       "0.7854528639629028"
      ]
     },
     "execution_count": 13,
     "metadata": {},
     "output_type": "execute_result"
    }
   ],
   "source": [
    "p = 1\n",
    "\n",
    "c_p[cumul.m == p][0]"
   ]
  },
  {
   "cell_type": "markdown",
   "metadata": {},
   "source": [
    "$\\log_2 S(j, q)$"
   ]
  },
  {
   "cell_type": "code",
   "execution_count": 14,
   "metadata": {},
   "outputs": [],
   "source": [
    "logSjq = sf.logvalues"
   ]
  },
  {
   "cell_type": "code",
   "execution_count": 15,
   "metadata": {},
   "outputs": [
    {
     "data": {
      "text/plain": [
       "array([[ 17.38220918,  15.07983924,  13.54003072,  11.8522281 ,\n",
       "         10.39565083,   8.61507386,   7.19729393,   5.91390231,\n",
       "          4.53249037],\n",
       "       [  8.37686016,   7.46572188,   6.71248408,   5.85627377,\n",
       "          5.12790873,   4.25833159,   3.54222776,   2.91814976,\n",
       "          2.26611491],\n",
       "       [  0.        ,   0.        ,   0.        ,   0.        ,\n",
       "          0.        ,   0.        ,   0.        ,   0.        ,\n",
       "          0.        ],\n",
       "       [ -8.00585251,  -7.32737306,  -6.59373517,  -5.71985119,\n",
       "         -4.96506848,  -4.16955467,  -3.43404841,  -2.85122328,\n",
       "         -2.26585431],\n",
       "       [-15.76412453, -14.52450892, -13.0675513 , -11.30759581,\n",
       "         -9.74854288,  -8.26059021,  -6.77346953,  -5.64762097,\n",
       "         -4.53144807]])"
      ]
     },
     "execution_count": 15,
     "metadata": {},
     "output_type": "execute_result"
    }
   ],
   "source": [
    "logSjq"
   ]
  },
  {
   "cell_type": "code",
   "execution_count": 16,
   "metadata": {},
   "outputs": [
    {
     "data": {
      "text/plain": [
       "array([[-15.76412453, -14.52450892, -13.0675513 , -11.30759581,\n",
       "         -9.74854288,  -8.26059021,  -6.77346953,  -5.64762097,\n",
       "         -4.53144807]])"
      ]
     },
     "execution_count": 16,
     "metadata": {},
     "output_type": "execute_result"
    }
   ],
   "source": [
    "q = 2\n",
    "\n",
    "logSjq[sf.q == q, :]"
   ]
  },
  {
   "cell_type": "code",
   "execution_count": 17,
   "metadata": {},
   "outputs": [
    {
     "data": {
      "text/plain": [
       "array([[10.39565083],\n",
       "       [ 5.12790873],\n",
       "       [ 0.        ],\n",
       "       [-4.96506848],\n",
       "       [-9.74854288]])"
      ]
     },
     "execution_count": 17,
     "metadata": {},
     "output_type": "execute_result"
    }
   ],
   "source": [
    "j = 5\n",
    "\n",
    "logSjq[:, sf.j == j]"
   ]
  },
  {
   "cell_type": "code",
   "execution_count": 18,
   "metadata": {},
   "outputs": [
    {
     "data": {
      "text/plain": [
       "array([-9.74854288])"
      ]
     },
     "execution_count": 18,
     "metadata": {},
     "output_type": "execute_result"
    }
   ],
   "source": [
    "j = 5\n",
    "q = 2\n",
    "\n",
    "logSjq[sf.q == q, sf.j == j]"
   ]
  },
  {
   "cell_type": "markdown",
   "metadata": {},
   "source": [
    "$C_p(j)$"
   ]
  },
  {
   "cell_type": "code",
   "execution_count": 19,
   "metadata": {},
   "outputs": [],
   "source": [
    "c = cumul.values"
   ]
  },
  {
   "cell_type": "code",
   "execution_count": 20,
   "metadata": {},
   "outputs": [
    {
     "data": {
      "text/plain": [
       "array([[-5.65766979e+00, -5.12581503e+00, -4.61187631e+00,\n",
       "        -4.01160336e+00, -3.50059790e+00, -2.91967932e+00,\n",
       "        -2.41664950e+00, -1.99812342e+00, -1.57066084e+00],\n",
       "       [ 2.49104520e-01,  9.57827471e-02,  8.24553722e-02,\n",
       "         9.46164640e-02,  1.13088083e-01,  6.15602390e-02,\n",
       "         7.55216911e-02,  4.64641849e-02,  1.80639165e-04]])"
      ]
     },
     "execution_count": 20,
     "metadata": {},
     "output_type": "execute_result"
    }
   ],
   "source": [
    "c"
   ]
  },
  {
   "cell_type": "code",
   "execution_count": 21,
   "metadata": {},
   "outputs": [
    {
     "data": {
      "text/plain": [
       "array([-3.5005979])"
      ]
     },
     "execution_count": 21,
     "metadata": {},
     "output_type": "execute_result"
    }
   ],
   "source": [
    "p = 1\n",
    "j = 5\n",
    "\n",
    "c[cumul.m == p, cumul.j == j]"
   ]
  },
  {
   "cell_type": "markdown",
   "metadata": {},
   "source": [
    "$D(h)$"
   ]
  },
  {
   "cell_type": "code",
   "execution_count": 22,
   "metadata": {},
   "outputs": [],
   "source": [
    "D = mfs.Dq\n",
    "h = mfs.hq"
   ]
  },
  {
   "cell_type": "code",
   "execution_count": 23,
   "metadata": {},
   "outputs": [
    {
     "data": {
      "image/png": "[encoded data removed]",
      "text/plain": [
       "<Figure size 432x288 with 1 Axes>"
      ]
     },
     "metadata": {
      "needs_background": "light"
     },
     "output_type": "display_data"
    }
   ],
   "source": [
    "mfs.plot()"
   ]
  },
  {
   "cell_type": "code",
   "execution_count": 24,
   "metadata": {},
   "outputs": [
    {
     "data": {
      "text/plain": [
       "(array([0.78240291]), array([0.99780246]))"
      ]
     },
     "execution_count": 24,
     "metadata": {},
     "output_type": "execute_result"
    }
   ],
   "source": [
    "q = 2\n",
    "\n",
    "h[mfs.q == q], D[mfs.q == q]"
   ]
  },
  {
   "cell_type": "markdown",
   "metadata": {},
   "source": [
    "## Using wavelet coefs"
   ]
  },
  {
   "cell_type": "markdown",
   "metadata": {},
   "source": [
    "You will need to separate the wavelet decomposition from the multi-fractal analysis"
   ]
  },
  {
   "cell_type": "code",
   "execution_count": 25,
   "metadata": {},
   "outputs": [],
   "source": [
    "import pymultifracs.wavelet as wt"
   ]
  },
  {
   "cell_type": "markdown",
   "metadata": {},
   "source": [
    "The `wt_trans` object contains both the wavelet coefficients and the wavelet leaders"
   ]
  },
  {
   "cell_type": "code",
   "execution_count": 27,
   "metadata": {},
   "outputs": [],
   "source": [
    "wt_trans = wt.wavelet_analysis(X,\n",
    "    j1=2, j2=8,\n",
    "    p_exp=2\n",
    ")"
   ]
  },
  {
   "cell_type": "markdown",
   "metadata": {},
   "source": [
    "The `mf_analysis` function picks up from a wavelet decomposition to compute everything that is needed\n",
    "\n",
    "The important thing to note here is that we specify `p_exp = None` in order to get the structure function, cumulants and multifractal spectrum to be computed using the wavelet coefs instead of wavelet leaders as would be the case if we kept `p_exp = 2`"
   ]
  },
  {
   "cell_type": "code",
   "execution_count": 35,
   "metadata": {},
   "outputs": [],
   "source": [
    "sf_coef, cumul_coef, mfs_coef = mf.mf_analysis(*wt_trans, p_exp=None, j1=2, weighted=True, n_cumul=2, q=np.arange(-2, 3))"
   ]
  },
  {
   "cell_type": "markdown",
   "metadata": {},
   "source": [
    "Since the `sf_coef`, `cumul_coef`, and `mfs_coef` variables have the same structure as the `sf`, `cumul`, and `mfs` variables presented before, the multifractal variables of interest ($c_p$, $D(h)$, ...) can be obtained in the exact same way"
   ]
  }
 ],
 "metadata": {
  "kernelspec": {
   "display_name": "Python [conda env:pymultifracs]",
   "language": "python",
   "name": "conda-env-pymultifracs-py"
  },
  "language_info": {
   "codemirror_mode": {
    "name": "ipython",
    "version": 3
   },
   "file_extension": ".py",
   "mimetype": "text/x-python",
   "name": "python",
   "nbconvert_exporter": "python",
   "pygments_lexer": "ipython3",
   "version": "3.8.3"
  },
  "widgets": {
   "application/vnd.jupyter.widget-state+json": {
    "state": {},
    "version_major": 2,
    "version_minor": 0
   }
  }
 },
 "nbformat": 4,
 "nbformat_minor": 4
}
